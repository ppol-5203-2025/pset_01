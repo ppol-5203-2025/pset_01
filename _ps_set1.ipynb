{
 "cells": [
  {
   "cell_type": "markdown",
   "id": "245e7088",
   "metadata": {},
   "source": [
    "<h1><center> PPOL 5203 Data Science I: Foundations <br><br> \n",
    "<font color='grey'>Problem Set I<br><br>\n",
    "Tiago Ventura</center></center> <h1> "
   ]
  },
  {
   "cell_type": "markdown",
   "id": "4fe2c5d4",
   "metadata": {},
   "source": [
    "This problem set will focus on: \n",
    "\n",
    "- Best Practices for project organization, reproducibility and coding\n",
    "- Git: working with branches, merging, and solving git conflicts\n",
    "- Git: understanding commit structure.\n",
    "\n",
    "You should submit your assigment via github classroom. \n",
    "\n",
    "I will consider your last commit as your final submission. "
   ]
  },
  {
   "cell_type": "markdown",
   "id": "f3e2b620",
   "metadata": {},
   "source": [
    "## Question 1 (pts 30) \n",
    "\n",
    "Congratulations!! Your data science report was accepted for publication! As it has become the norm, you now have to submit the data and code for replication of your report's results. \n",
    "\n",
    "You decided to create a github repo with all the materials (data, code, figures) of your article. You article has the following materials: \n",
    "\n",
    "- `main.py` (runs the main results of the paper); \n",
    "- `res_sif.py` (runs all results of the appendix);\n",
    "- `ana_add_p.py` (additional analysis main paper);\n",
    "- `prep   II  version_3.py` (does all the processing of the data);\n",
    "- `survey s II qualtrics 12/10.csv` (raw data);\n",
    "- `raw_data_II_saved_by_coauthor_X.json` (clean data);\n",
    "- `fig.png` (figure 1)\n",
    "- `figure abs.png` (figure 2)\n",
    "- `figure abs2.png` (figure 3)\n",
    "- `figure abs3.png` (figure 4)\n",
    "- `figure abs4.png` (figure 5)\n",
    "- `figure sif.png` (figure 1 appendix with heteregenous effects)\n",
    "- `figure sif .png` (figure 2 appendix results for polarization)\n",
    "- `figure sif .png` (figure 3 appendix robustness checks)\n",
    "\n",
    "**Your taks:** Create a folder in your repository named `question-01`. In this folder, you should simulate a github repo with all the materials (data, code, figures) of your article that follows the best practices for project management and reproducibility we discussed in class. \n",
    "\n",
    "- Tip 1: Check [this repo](https://github.com/TiagoVentura/winning_plosone/tree/main) to see what your response should look like. \n",
    "\n",
    "- Tip 2: I do not care what is inside of each file. Just create a empty file/output with the appropiate name. \n",
    "\n",
    "- Tip 3: You **do not** need to worry about creating a conda or pyenv environment. "
   ]
  },
  {
   "cell_type": "code",
   "execution_count": null,
   "id": "825d293b",
   "metadata": {},
   "outputs": [],
   "source": [
    "# No needs to answer anything here. This should be a full folder in your repository\n"
   ]
  },
  {
   "cell_type": "markdown",
   "id": "77656f95",
   "metadata": {},
   "source": [
    "## Question 2 (pts 30) \n",
    "\n",
    "In this question, I ask you to practice several git commands. In your response below, you should paste all the commands you used to answer the question. If you did some trial and error, it is not a problem. Paste the correct response to each item. \n",
    "\n",
    "1. In your main repository (from github classroom), create a `.txt` named `solutions_for_question_2`. Write the name of your favorite book in the file.  \n",
    "\n",
    "2. Add that file to the staging area.\n",
    "\n",
    "3. Commit that file with a clear commit message\n",
    "\n",
    "4. Create and checkout to a new branch called \"wish_to\"\n",
    "\n",
    "5. Make a change `solutions_for_question_2` and commit. The change should be adding your second favorite book.\n",
    "\n",
    "3. Switch back to the `master` or `main` branch.\n",
    "\n",
    "4. Make a change `solutions_for_question_2` and commit. Add the book you want to read next. Make sure that change is to the same line as you change in step 5. Make sure the change differs from what you did in step two. \n",
    "\n",
    "5. Now merge the `new` and `master` branches.\n",
    "\n",
    "6. Manually resolve the git conflict and then commit the resolved version. Be detailed on how you are solving the conflict\n",
    "\n",
    "7. Look at your git and describe with words the timeline of changes. "
   ]
  },
  {
   "cell_type": "code",
   "execution_count": null,
   "id": "bcb93886",
   "metadata": {},
   "outputs": [],
   "source": [
    "# Paste here all the commands you used to answer this questions. \n",
    "# Use instructive commit messages, since we will look at those to grade your homework "
   ]
  },
  {
   "cell_type": "markdown",
   "id": "8803051b",
   "metadata": {},
   "source": [
    "## Question 3 (pts 30)\n",
    "\n",
    "Solve the challenges of this Git Scavenger task  \n",
    "\n",
    "Here is the link of the task:\n",
    "\n",
    "https://github.com/PPOL-5203-2023/git-scavenger-hunt-20203\n",
    "\n",
    "Provide your answers below in this notebook. "
   ]
  },
  {
   "cell_type": "code",
   "execution_count": null,
   "id": "6f9928a7",
   "metadata": {},
   "outputs": [],
   "source": [
    "# add your answers here"
   ]
  },
  {
   "cell_type": "markdown",
   "id": "c129e20d",
   "metadata": {},
   "source": [
    "## Question 4 (pts 10)\n",
    "\n",
    "As part of this homework, I want you to complete at least one course on DataCamp about Git. I created a track for you on your DataCamp Dashboard. Your tasks are: \n",
    "\n",
    "- Complete at least one of the courses in the git track\n",
    "\n",
    "- Submit a certification/proof of completion as a PDF in the github repository for this assignment. \n",
    "\n",
    "**IMPORTANT:** You have free access to datacamp as part of this course. So you do not need to sign up. Just follow the github invitation (with your georgetown email) that I sent earlier to you.  \n",
    "\n",
    "If you have time, complete the entire track. It is really worth it!"
   ]
  },
  {
   "cell_type": "markdown",
   "id": "e0158d6d",
   "metadata": {},
   "source": [
    "### Happy Git!"
   ]
  }
 ],
 "metadata": {
  "kernelspec": {
   "display_name": "Python 3 (ipykernel)",
   "language": "python",
   "name": "python3"
  },
  "language_info": {
   "codemirror_mode": {
    "name": "ipython",
    "version": 3
   },
   "file_extension": ".py",
   "mimetype": "text/x-python",
   "name": "python",
   "nbconvert_exporter": "python",
   "pygments_lexer": "ipython3",
   "version": "3.11.4"
  }
 },
 "nbformat": 4,
 "nbformat_minor": 5
}
